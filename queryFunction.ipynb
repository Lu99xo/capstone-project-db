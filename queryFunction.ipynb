{
 "cells": [
  {
   "cell_type": "code",
   "execution_count": 6,
   "id": "ecf586fd-1772-486c-a469-b6e8fc5d4c86",
   "metadata": {},
   "outputs": [],
   "source": [
    "import mysql.connector as connector"
   ]
  },
  {
   "cell_type": "code",
   "execution_count": 7,
   "id": "309f40e7-5162-4e2b-bde7-54ad1f0d1962",
   "metadata": {},
   "outputs": [],
   "source": [
    "mydb = connector.connect( host=\"localhost\", user=\"root\",password='root', database ='final_lm')"
   ]
  },
  {
   "cell_type": "code",
   "execution_count": 8,
   "id": "3faffbb0-0f0d-4f0c-a553-3248d5a2f587",
   "metadata": {},
   "outputs": [],
   "source": [
    " cursor = mydb.cursor()\n"
   ]
  },
  {
   "cell_type": "code",
   "execution_count": 9,
   "id": "3e0fb4b2-d9f6-431d-841d-86d253632812",
   "metadata": {},
   "outputs": [],
   "source": [
    "use_database_qurty = \"\"\"USE final_lm\"\"\"\n",
    "cursor.execute(use_database_qurty)"
   ]
  },
  {
   "cell_type": "code",
   "execution_count": 10,
   "id": "8204b1a6-1e82-4e1a-8e38-357793119314",
   "metadata": {},
   "outputs": [],
   "source": [
    "show_tables_query = \"SHOW tables\" \n",
    "cursor.execute(show_tables_query)"
   ]
  },
  {
   "cell_type": "code",
   "execution_count": 11,
   "id": "50b8c5dc-ad0b-4a7e-8831-29f7900ed13b",
   "metadata": {},
   "outputs": [
    {
     "name": "stdout",
     "output_type": "stream",
     "text": [
      "('address',)\n",
      "('booking',)\n",
      "('customer',)\n",
      "('menues',)\n",
      "('menuitems',)\n",
      "('order_view',)\n",
      "('orders',)\n",
      "('staff',)\n",
      "('table',)\n"
     ]
    }
   ],
   "source": [
    "for table in cursor :\n",
    "    print(table)  "
   ]
  },
  {
   "cell_type": "code",
   "execution_count": 19,
   "id": "389205f8-d16b-4c5f-8717-0a91ed55773c",
   "metadata": {},
   "outputs": [],
   "source": [
    "table_join = \"\"\"\n",
    "SELECT  customer.fullName, customer.phoneNumber , customer.email ,\n",
    "orders.orderID , orders.totalCost\n",
    "\n",
    "\n",
    "FROM customer \n",
    "JOIN orders  ON customer.customerID = orders.orderID \n",
    "\n",
    "WHERE orders.totalCost > 160;\n",
    "\n",
    "\"\"\""
   ]
  },
  {
   "cell_type": "code",
   "execution_count": 20,
   "id": "e28e3520-683f-4407-b795-3d5c115e8188",
   "metadata": {},
   "outputs": [],
   "source": [
    "cursor.execute(table_join)"
   ]
  },
  {
   "cell_type": "code",
   "execution_count": 21,
   "id": "4bfdbe9e-6675-4e31-9f92-189b515d97bb",
   "metadata": {},
   "outputs": [
    {
     "name": "stdout",
     "output_type": "stream",
     "text": [
      "('fullName', 'phoneNumber', 'email', 'orderID', 'totalCost')\n"
     ]
    }
   ],
   "source": [
    "cols = cursor.column_names\n",
    "print(cols)\n",
    "\n",
    "for result in cursor :\n",
    "    print(result)"
   ]
  },
  {
   "cell_type": "code",
   "execution_count": null,
   "id": "cc36a6ef-c2d8-4400-b482-1d88052cf734",
   "metadata": {},
   "outputs": [],
   "source": []
  }
 ],
 "metadata": {
  "kernelspec": {
   "display_name": "Python 3 (ipykernel)",
   "language": "python",
   "name": "python3"
  },
  "language_info": {
   "codemirror_mode": {
    "name": "ipython",
    "version": 3
   },
   "file_extension": ".py",
   "mimetype": "text/x-python",
   "name": "python",
   "nbconvert_exporter": "python",
   "pygments_lexer": "ipython3",
   "version": "3.11.5"
  }
 },
 "nbformat": 4,
 "nbformat_minor": 5
}
